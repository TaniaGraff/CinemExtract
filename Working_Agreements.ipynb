{
 "cells": [
  {
   "cell_type": "markdown",
   "metadata": {},
   "source": [
    "# Working Agreements\n",
    "## Comunicación\n",
    "- Grupo de whatsapp para comunicación rápida.\n",
    "- Grupo de Slack para compartir archivos y dejar registro.\n",
    "\n",
    "## Forma de trabajar\n",
    "- Reuniones:\n",
    "    > Estar las cinco integrantes presentes.\n",
    "    > Limitarlas a las horas de proyecto, ampliar a medida que avance el proyecto.\n",
    "\n",
    "- Trabajo:\n",
    "    > Informar de los avances a las compañeras.\n",
    "    > Subir al repo los avances."
   ]
  }
 ],
 "metadata": {
  "language_info": {
   "name": "python"
  }
 },
 "nbformat": 4,
 "nbformat_minor": 2
}
