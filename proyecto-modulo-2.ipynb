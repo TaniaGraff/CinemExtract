{
 "cells": [
  {
   "cell_type": "code",
   "execution_count": 1,
   "metadata": {},
   "outputs": [],
   "source": [
    "# Tratamiento de datos\n",
    "import pandas as pd\n",
    "\n",
    "# Uso de API's\n",
    "import requests\n",
    "\n",
    "# Importar librerías para procesamiento de texto\n",
    "import re\n",
    "\n",
    "# Configuración\n",
    "pd.set_option('display.max_columns', None)"
   ]
  },
  {
   "cell_type": "markdown",
   "metadata": {},
   "source": [
    "[(\"Pelicula\", \"Titanic\", 1997, 12, \"abc123\"), (\"Pelicula\", \"Los Gonnies\", 1985, 6, \"abc456\"), ...]"
   ]
  },
  {
   "cell_type": "code",
   "execution_count": 4,
   "metadata": {},
   "outputs": [
    {
     "name": "stdout",
     "output_type": "stream",
     "text": [
      "{'results': []}\n"
     ]
    }
   ],
   "source": [
    "import requests\n",
    "\n",
    "url = \"https://moviesdatabase.p.rapidapi.com/titles/series/%7BseriesId%7D\"\n",
    "\n",
    "headers = {\n",
    "\t\"X-RapidAPI-Key\": \"cff691d25dmsh3fc5f76722e36c6p1b9b46jsned39cc0c12fd\",\n",
    "\t\"X-RapidAPI-Host\": \"moviesdatabase.p.rapidapi.com\"\n",
    "}\n",
    "\n",
    "response = requests.get(url, headers=headers)\n",
    "\n",
    "print(response.json())"
   ]
  },
  {
   "cell_type": "code",
   "execution_count": null,
   "metadata": {},
   "outputs": [],
   "source": [
    "api_key = \"\"\n",
    "\n",
    "# Funcion que va a llamar a la api con mi api_key\n",
    "def llamar_api(api_key):\n",
    "    url_movies = \"\"\n",
    "    headers = {\"Authorization\": api_key}\n",
    "\n",
    "    llamada = requests.get(url_movies, headers=headers)\n",
    "    \n",
    "    print(f\"La llamada a la API nos ha dado una respuesta de tipo {llamada.status_code}\")\n",
    "\n",
    "    if llamada.status_code != 200:\n",
    "        print(f\"El motivo por el que la llamada falló es {llamada.reason}\")\n",
    "    else:\n",
    "        respuesta_json =  llamada.json()\n",
    "        return respuesta_json\n",
    "\n",
    "respuesta_movies = llamar_api(api_key)\n",
    "print(respuesta_movies)"
   ]
  }
 ],
 "metadata": {
  "kernelspec": {
   "display_name": "Python 3",
   "language": "python",
   "name": "python3"
  },
  "language_info": {
   "codemirror_mode": {
    "name": "ipython",
    "version": 3
   },
   "file_extension": ".py",
   "mimetype": "text/x-python",
   "name": "python",
   "nbconvert_exporter": "python",
   "pygments_lexer": "ipython3",
   "version": "3.6.9"
  }
 },
 "nbformat": 4,
 "nbformat_minor": 2
}
