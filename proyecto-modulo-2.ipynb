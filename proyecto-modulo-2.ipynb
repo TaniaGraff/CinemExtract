{
 "cells": [
  {
   "cell_type": "markdown",
   "metadata": {},
   "source": [
    "# Proyecto: Proyecto CinemExtract: Explorando el Séptimo Arte a través de Datos y Tecnología"
   ]
  },
  {
   "cell_type": "markdown",
   "metadata": {},
   "source": [
    "## Fase 1: Extracción de Datos de API de MoviesDataset"
   ]
  },
  {
   "cell_type": "markdown",
   "metadata": {},
   "source": [
    "En esta fase, usaremos la API de MoviesDataset, que contiene una gran cantidad de información sobre películas, incluyendo detalles como títulos, géneros, años de lanzamiento y más. Vuestra tarea será hacer solicitudes a esta API y extraer información relevante sobre las películas. En concreto tendreis que sacar la siguiente información:\n",
    "\n",
    "- Películas entre 2015 y 2020 (ambos inclusive).\n",
    "\n",
    "- Películas que pertenezcan a los siguientes géneros: Drama, Comedy, Action, Fantasy, Horror, Mystery, Romance, Thriller.\n",
    "\n",
    "- De cada una de las películas tendreis que sacar la siguiente información:\n",
    "\n",
    "    - Tipo (si es corto o película).\n",
    "\n",
    "    - Nombre de la película o el corto.\n",
    "\n",
    "    - Año de estreno de la película o corto.\n",
    "\n",
    "    - Mes de estreno de la película o corto.\n",
    "\n",
    "    - Id de la película.\n",
    "\n",
    "- La documentación a la API la encontrarás aquí.\n",
    "\n",
    "- NOTA: La información de la API deberá ser almacenada en una lista de tuplas. Cada tupla corresponderá a una película. Siguiendo el siguiente ejemplo:\n",
    "\n",
    "    ``` Python\n",
    "    [(\"Pelicula\", \"Titanic\", 1997, 12, \"abc123\"), (\"Pelicula\", \"Los Gonnies\", 1985, 6, \"abc456\"), ...]\n",
    "    ```"
   ]
  },
  {
   "cell_type": "code",
   "execution_count": 2,
   "metadata": {},
   "outputs": [],
   "source": [
    "# Tratamiento de datos\n",
    "import pandas as pd\n",
    "\n",
    "# Uso de API's\n",
    "import requests\n",
    "\n",
    "# Importar librerías para procesamiento de texto\n",
    "import re\n",
    "\n",
    "# Configuración\n",
    "pd.set_option('display.max_columns', None)"
   ]
  },
  {
   "cell_type": "code",
   "execution_count": 34,
   "metadata": {},
   "outputs": [
    {
     "name": "stdout",
     "output_type": "stream",
     "text": [
      "dict_keys(['page', 'next', 'entries', 'results'])\n"
     ]
    }
   ],
   "source": [
    "# definimos nuestro endpoint\n",
    "url = \"https://moviesdatabase.p.rapidapi.com//titles?page=1\"\n",
    "\n",
    "headers = {\n",
    "\t\"X-RapidAPI-Key\": \"cff691d25dmsh3fc5f76722e36c6p1b9b46jsned39cc0c12fd\",\n",
    "\t\"X-RapidAPI-Host\": \"moviesdatabase.p.rapidapi.com\"\n",
    "}\n",
    "\n",
    "# llamada, hacemos la petición de la información\n",
    "response = requests.get(url, headers=headers)\n",
    "\n",
    "# convierto la informacion en formato json\n",
    "response_json = response.json()\n",
    "\n",
    "print(response_json.keys())"
   ]
  },
  {
   "cell_type": "code",
   "execution_count": null,
   "metadata": {},
   "outputs": [],
   "source": [
    "'''\n",
    "\n",
    "api_key = \"\"\n",
    "\n",
    "# Funcion que va a llamar a la api con mi api_key\n",
    "def llamar_api(api_key):\n",
    "    url_movies = \"\"\n",
    "    headers = {\"Authorization\": api_key}\n",
    "\n",
    "    llamada = requests.get(url_movies, headers=headers)\n",
    "    \n",
    "    print(f\"La llamada a la API nos ha dado una respuesta de tipo {llamada.status_code}\")\n",
    "\n",
    "    if llamada.status_code != 200:\n",
    "        print(f\"El motivo por el que la llamada falló es {llamada.reason}\")\n",
    "    else:\n",
    "        respuesta_json =  llamada.json()\n",
    "        return respuesta_json\n",
    "\n",
    "respuesta_movies = llamar_api(api_key)\n",
    "print(respuesta_movies)\n",
    "\n",
    "'''"
   ]
  },
  {
   "cell_type": "code",
   "execution_count": 36,
   "metadata": {},
   "outputs": [
    {
     "data": {
      "text/plain": [
       "1"
      ]
     },
     "execution_count": 36,
     "metadata": {},
     "output_type": "execute_result"
    }
   ],
   "source": [
    "# la key 'page' me dice en la pagina en la que estoy\n",
    "response_json['page']"
   ]
  },
  {
   "cell_type": "code",
   "execution_count": 38,
   "metadata": {},
   "outputs": [
    {
     "data": {
      "text/plain": [
       "'/titles?page=2'"
      ]
     },
     "execution_count": 38,
     "metadata": {},
     "output_type": "execute_result"
    }
   ],
   "source": [
    "# 'next' me devuelve el fragmento de url para acceder a la siguiente pagina\n",
    "response_json['next']"
   ]
  },
  {
   "cell_type": "code",
   "execution_count": 39,
   "metadata": {},
   "outputs": [
    {
     "data": {
      "text/plain": [
       "10"
      ]
     },
     "execution_count": 39,
     "metadata": {},
     "output_type": "execute_result"
    }
   ],
   "source": [
    "# entries me dice las entradas que tengo en esa pagina\n",
    "response_json['entries']"
   ]
  },
  {
   "cell_type": "code",
   "execution_count": 40,
   "metadata": {},
   "outputs": [
    {
     "data": {
      "text/plain": [
       "{'_id': '61e57fd65c5338f43c777f4a',\n",
       " 'id': 'tt0000081',\n",
       " 'primaryImage': {'id': 'rm211543552',\n",
       "  'width': 226,\n",
       "  'height': 300,\n",
       "  'url': 'https://m.media-amazon.com/images/M/MV5BM2ZlYjA4NmItZTYxYy00MGFiLTg3MWUtNzZmYjE1ODZmMThjXkEyXkFqcGdeQXVyNTI2NTY2MDI@._V1_.jpg',\n",
       "  'caption': {'plainText': 'Les haleurs de bateaux (1896)',\n",
       "   '__typename': 'Markdown'},\n",
       "  '__typename': 'Image'},\n",
       " 'titleType': {'text': 'Short',\n",
       "  'id': 'short',\n",
       "  'isSeries': False,\n",
       "  'isEpisode': False,\n",
       "  '__typename': 'TitleType'},\n",
       " 'titleText': {'text': 'Les haleurs de bateaux', '__typename': 'TitleText'},\n",
       " 'originalTitleText': {'text': 'Les haleurs de bateaux',\n",
       "  '__typename': 'TitleText'},\n",
       " 'releaseYear': {'year': 1896, 'endYear': None, '__typename': 'YearRange'},\n",
       " 'releaseDate': None}"
      ]
     },
     "execution_count": 40,
     "metadata": {},
     "output_type": "execute_result"
    }
   ],
   "source": [
    "# veo qué muestra 'results' para el primer elemento\n",
    "response_json['results'][0]"
   ]
  }
 ],
 "metadata": {
  "kernelspec": {
   "display_name": "Python 3",
   "language": "python",
   "name": "python3"
  },
  "language_info": {
   "codemirror_mode": {
    "name": "ipython",
    "version": 3
   },
   "file_extension": ".py",
   "mimetype": "text/x-python",
   "name": "python",
   "nbconvert_exporter": "python",
   "pygments_lexer": "ipython3",
   "version": "3.6.9"
  }
 },
 "nbformat": 4,
 "nbformat_minor": 2
}
